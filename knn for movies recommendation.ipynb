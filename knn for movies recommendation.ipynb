{
  "nbformat": 4,
  "nbformat_minor": 0,
  "metadata": {
    "colab": {
      "name": "knn_assignment.ipynb",
      "provenance": [],
      "toc_visible": true,
      "authorship_tag": "ABX9TyNlV0O+l3X9Wx/STIvzKMsu",
      "include_colab_link": true
    },
    "kernelspec": {
      "name": "python3",
      "display_name": "Python 3"
    }
  },
  "cells": [
    {
      "cell_type": "markdown",
      "metadata": {
        "id": "view-in-github",
        "colab_type": "text"
      },
      "source": [
        "<a href=\"https://colab.research.google.com/github/shayedashraf/artificial-intelligence/blob/master/knn.ipynb\" target=\"_parent\"><img src=\"https://colab.research.google.com/assets/colab-badge.svg\" alt=\"Open In Colab\"/></a>"
      ]
    },
    {
      "cell_type": "code",
      "metadata": {
        "id": "Tl1XeTR8p4HD",
        "colab_type": "code",
        "outputId": "20445223-08ef-4a81-b468-c1d0cdbd149e",
        "colab": {
          "base_uri": "https://localhost:8080/",
          "height": 118
        }
      },
      "source": [
        "import csv\n",
        "import math\n",
        "data = list(csv.reader(open('movies_recommendation_data.csv')))\n",
        "training = []\n",
        "test = []\n",
        "names = {}\n",
        "i = int(len(data)*(60/100))\n",
        "\n",
        "for j in range(0, i):\n",
        "    training.append(data[j])\n",
        "for j in range(i, len(data)):\n",
        "    test.append(data[j])\n",
        "c = 0\n",
        "\n",
        "for i in data:\n",
        "    if c == 0:\n",
        "        c += 1\n",
        "        continue\n",
        "    names[int(i[0])] = i[1]\n",
        "\n",
        "\n",
        "dis = [{}for i in range(200)]\n",
        "for j in test:\n",
        "    src = int(j[0])\n",
        "\n",
        "    lp = 0\n",
        "    for k in training:\n",
        "        lp += 1\n",
        "        if lp == 1:\n",
        "            continue\n",
        "        value = 0\n",
        "        target = 0\n",
        "\n",
        "        for l in range(2, len(k)):\n",
        "            target = int(k[0])\n",
        "            if l == 2:\n",
        "                value += (float(k[l]) - float(j[l])) ** 2\n",
        "                continue\n",
        "            value += (int(k[l])-int(j[l]))*(int(k[l])-int(j[l]))\n",
        "        value = float(math.sqrt(value))\n",
        "\n",
        "        dic = dis[src]\n",
        "        dic[target] = value\n",
        "        dis[src] = dic\n",
        "\n",
        "\n",
        "sorted_x = []\n",
        "for i in range(0, len(dis)):\n",
        "    sorted_x.append(dict(sorted(dis[i].items(), key=lambda kv: kv[1])))\n",
        "\n",
        "\n",
        "lis = list(sorted_x[46].keys())\n",
        "print(\"5 similar movies of  \", names[46])\n",
        "for i in range(0, 5):\n",
        "    print(names[int(lis[i])])"
      ],
      "execution_count": 0,
      "outputs": [
        {
          "output_type": "stream",
          "text": [
            "5 similar movies of   Queen of Katwe\n",
            "The Wind Rises\n",
            "Queen of Katwe\n",
            "Gifted\n",
            "The Karate Kid\n",
            "A Brilliant Young Mind\n"
          ],
          "name": "stdout"
        }
      ]
    }
  ]
}
